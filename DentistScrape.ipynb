{
 "cells": [
  {
   "cell_type": "code",
   "execution_count": 1,
   "id": "cd2a9227-5d55-448d-9817-5081b9786bc7",
   "metadata": {},
   "outputs": [],
   "source": [
    "import pandas as pd\n",
    "import requests\n",
    "from bs4 import BeautifulSoup\n",
    "import string\n",
    "\n",
    "names = []\n",
    "locations = []\n",
    "cities = []\n",
    "phones = []\n",
    "practices = []\n",
    "permits = []\n",
    "statuses = []\n",
    "specialities = []\n",
    "\n",
    "url = \"https://www.rcdso.org/find-a-dentist/search-results/dentist?id=53475\"\n",
    "\n",
    "page = requests.get(url)\n",
    "\n",
    "# Parse the HTML content\n",
    "soup = BeautifulSoup(page.text, \"html.parser\")\n"
   ]
  },
  {
   "cell_type": "code",
   "execution_count": 2,
   "id": "76630043-8a59-4c58-ab04-ac452c7f48b3",
   "metadata": {},
   "outputs": [
    {
     "name": "stdout",
     "output_type": "stream",
     "text": [
      "<header>\n",
      " <h1>\n",
      "  Stephanie Lauziere\n",
      " </h1>\n",
      " <a aria-label=\"Click to print this page\" data-icon=\"\" role=\"button\" tabindex=\"0\">\n",
      " </a>\n",
      " <dl>\n",
      "  <dt>\n",
      "   Full Name:\n",
      "  </dt>\n",
      "  <dd>\n",
      "   Stephanie  Lauziere\n",
      "  </dd>\n",
      "  <dt>\n",
      "   Registration Number:\n",
      "  </dt>\n",
      "  <dd>\n",
      "   53475\n",
      "  </dd>\n",
      "  <dt>\n",
      "   Current Status:\n",
      "  </dt>\n",
      "  <dd>\n",
      "   Member\n",
      "  </dd>\n",
      "  <dt>\n",
      "   Specialty:\n",
      "  </dt>\n",
      "  <dd>\n",
      "   <ul>\n",
      "    <li>\n",
      "     Paediatric Dentist\n",
      "    </li>\n",
      "   </ul>\n",
      "  </dd>\n",
      " </dl>\n",
      "</header>\n",
      "\n"
     ]
    }
   ],
   "source": [
    "dentistdetails = soup.find(\"div\", id=\"dentistDetails\").header\n",
    "\n",
    "print(dentistdetails.prettify())"
   ]
  },
  {
   "cell_type": "code",
   "execution_count": 3,
   "id": "2be1a1da-855a-4ddd-8aad-5917a1fc6642",
   "metadata": {},
   "outputs": [
    {
     "name": "stdout",
     "output_type": "stream",
     "text": [
      "Stephanie Lauziere\n"
     ]
    }
   ],
   "source": [
    "print(dentistdetails.h1.text.strip())"
   ]
  },
  {
   "cell_type": "code",
   "execution_count": 14,
   "id": "5c7792d5-3814-41c0-b03d-2fdacbfbc7e3",
   "metadata": {},
   "outputs": [
    {
     "name": "stdout",
     "output_type": "stream",
     "text": [
      "Paediatric Dentist\n"
     ]
    }
   ],
   "source": [
    "print(dentistdetails.find(string = \"Specialty:\").parent.next_sibling.next_sibling.text.strip())"
   ]
  },
  {
   "cell_type": "code",
   "execution_count": 20,
   "id": "330f5d32-c977-424a-92de-84323af78121",
   "metadata": {},
   "outputs": [
    {
     "name": "stdout",
     "output_type": "stream",
     "text": [
      "<div class=\"row\">\n",
      " <h3 class=\"col-12\">\n",
      "  Primary Practice\n",
      " </h3>\n",
      " <h4 class=\"col-12\">\n",
      "  Children's Hosp. of Eastern Ont.\n",
      " </h4>\n",
      " <div class=\"col-md-6\">\n",
      "  <address>\n",
      "   <span>\n",
      "    401 Smyth Rd Dental Department\n",
      "   </span>\n",
      "   <span>\n",
      "    Ottawa, ON, CA\n",
      "   </span>\n",
      "   <span>\n",
      "    K1H 8L1\n",
      "   </span>\n",
      "  </address>\n",
      "  <dl>\n",
      "   <dt>\n",
      "    Phone:\n",
      "   </dt>\n",
      "   <dd>\n",
      "    <a href=\"tel:6137372357\">\n",
      "     (613) 737-2357\n",
      "    </a>\n",
      "   </dd>\n",
      "  </dl>\n",
      " </div>\n",
      " <div class=\"col-md-6\">\n",
      "  <dl>\n",
      "   <dt>\n",
      "    Sedation &amp; Anesthesia Facility Permit:\n",
      "   </dt>\n",
      "   <dd>\n",
      "    No\n",
      "   </dd>\n",
      "   <dt>\n",
      "    CT Scanner Facility Permit:\n",
      "   </dt>\n",
      "   <dd>\n",
      "    No\n",
      "   </dd>\n",
      "  </dl>\n",
      " </div>\n",
      "</div>\n",
      "\n"
     ]
    }
   ],
   "source": [
    "pp = soup.find(\"section\", id=\"Practices\").find(\"h3\", string=\"Primary Practice\").parent\n",
    "\n",
    "print(pp.prettify())"
   ]
  },
  {
   "cell_type": "code",
   "execution_count": 22,
   "id": "dd292ccf-af4b-42e3-bb0e-35832df2c5f0",
   "metadata": {},
   "outputs": [
    {
     "name": "stdout",
     "output_type": "stream",
     "text": [
      "Children's Hosp. of Eastern Ont.\n"
     ]
    }
   ],
   "source": [
    "print(pp.h4.text.strip())"
   ]
  },
  {
   "cell_type": "code",
   "execution_count": 23,
   "id": "820fa1c3-6c3d-47bd-819b-cf24ac6ca27d",
   "metadata": {},
   "outputs": [
    {
     "name": "stdout",
     "output_type": "stream",
     "text": [
      "<address>\n",
      " <span>\n",
      "  401 Smyth Rd Dental Department\n",
      " </span>\n",
      " <span>\n",
      "  Ottawa, ON, CA\n",
      " </span>\n",
      " <span>\n",
      "  K1H 8L1\n",
      " </span>\n",
      "</address>\n",
      "\n"
     ]
    }
   ],
   "source": [
    "print(pp.address.prettify())"
   ]
  },
  {
   "cell_type": "code",
   "execution_count": 32,
   "id": "8ef83597-491e-49d8-9d74-0096d16f8e67",
   "metadata": {},
   "outputs": [
    {
     "name": "stdout",
     "output_type": "stream",
     "text": [
      "401 Smyth Rd Dental Department, Ottawa, ON, CA, K1H 8L1\n"
     ]
    }
   ],
   "source": [
    "spans = [span.text.strip() for span in pp.address.find_all(\"span\")]\n",
    "s = \", \".join(spans)\n",
    "print(s)"
   ]
  }
 ],
 "metadata": {
  "kernelspec": {
   "display_name": "Python 3 (ipykernel)",
   "language": "python",
   "name": "python3"
  },
  "language_info": {
   "codemirror_mode": {
    "name": "ipython",
    "version": 3
   },
   "file_extension": ".py",
   "mimetype": "text/x-python",
   "name": "python",
   "nbconvert_exporter": "python",
   "pygments_lexer": "ipython3",
   "version": "3.12.0"
  }
 },
 "nbformat": 4,
 "nbformat_minor": 5
}
